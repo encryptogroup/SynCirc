{
  "cells": [
    {
      "cell_type": "markdown",
      "metadata": {
        "id": "_FtFxo-f0F2E"
      },
      "source": [
        "# FRESH: Framework for Efficient Secure Circuit Synthesis from High-Level Languages"
      ]
    },
    {
      "cell_type": "markdown",
      "metadata": {
        "id": "6z6okz_G1yRR"
      },
      "source": [
        "## Setup\n",
        "\n",
        "The following cell will set up an environment for experimenting with our FRESH toolchain. On Colab, the setup takes about 5 minutes.\n",
        "\n",
        "The code will download binaries for XLS, Yosys, and the Zig compiler toolchain as well as source code from our work. FRESH is compiled by Zig from source on-the-fly. While Yosys and Zig are fetched from their upstream binary distributions, we modified the XLS codebase and thus provide our own binaries."
      ]
    },
    {
      "cell_type": "code",
      "execution_count": null,
      "metadata": {
        "colab": {
          "base_uri": "https://localhost:8080/"
        },
        "id": "cgFcHneACH0h",
        "outputId": "b0e67964-f75b-4a25-d46c-67fd54184584"
      },
      "outputs": [
        {
          "name": "stdout",
          "output_type": "stream",
          "text": [
            "  % Total    % Received % Xferd  Average Speed   Time    Time     Time  Current\n",
            "                                 Dload  Upload   Total   Spent    Left  Speed\n",
            "100 35.8M    0 35.8M    0     0  1198k      0 --:--:--  0:00:30 --:--:--  614k\n",
            "  % Total    % Received % Xferd  Average Speed   Time    Time     Time  Current\n",
            "                                 Dload  Upload   Total   Spent    Left  Speed\n",
            "100 75.7M    0 75.7M    0     0  7591k      0 --:--:--  0:00:10 --:--:-- 9122k\n",
            "  % Total    % Received % Xferd  Average Speed   Time    Time     Time  Current\n",
            "                                 Dload  Upload   Total   Spent    Left  Speed\n",
            "100 75.7M    0 75.7M    0     0  9727k      0 --:--:--  0:00:07 --:--:-- 10.6M\n",
            "  % Total    % Received % Xferd  Average Speed   Time    Time     Time  Current\n",
            "                                 Dload  Upload   Total   Spent    Left  Speed\n",
            "100 75.7M    0 75.7M    0     0  12.3M      0 --:--:--  0:00:06 --:--:-- 16.2M\n",
            "env: XLSCC=/content/bazel-bin/xls/contrib/xlscc/xlscc\n",
            "env: XLS_OPT=/content/bazel-bin/xls/tools/opt_main\n",
            "env: XLS_CODEGEN=/content/bazel-bin/xls/tools/codegen_main\n",
            "  % Total    % Received % Xferd  Average Speed   Time    Time     Time  Current\n",
            "                                 Dload  Upload   Total   Spent    Left  Speed\n",
            "100  128M  100  128M    0     0   126M      0  0:00:01  0:00:01 --:--:--  126M\n",
            "PREFIX=/content/conda-env\n",
            "Unpacking payload ...\n",
            "                                                                                    \n",
            "Installing base environment...\n",
            "\n",
            "\n",
            "Downloading and Extracting Packages:\n",
            "\n",
            "\n",
            "Downloading and Extracting Packages:\n",
            "\n",
            "Preparing transaction: - \b\b\\ \b\b| \b\b/ \b\b- \b\bdone\n",
            "Executing transaction: | \b\b/ \b\b- \b\b\\ \b\b| \b\b/ \b\b- \b\b\\ \b\b| \b\b/ \b\b- \b\b\\ \b\b| \b\b/ \b\b- \b\b\\ \b\b| \b\b/ \b\b- \b\b\\ \b\b| \b\b/ \b\b- \b\b\\ \b\b| \b\b/ \b\b- \b\b\\ \b\b| \b\bdone\n",
            "installation finished.\n",
            "WARNING:\n",
            "    You currently have a PYTHONPATH environment variable set. This may cause\n",
            "    unexpected behavior when running the Python interpreter in Miniconda3.\n",
            "    For best results, please verify that your PYTHONPATH only points to\n",
            "    directories of packages that are compatible with the Python interpreter\n",
            "    in Miniconda3: /content/conda-env\n",
            "env: CONDA_PREFIX=/content/conda-env\n",
            "Channels:\n",
            " - litex-hub\n",
            " - defaults\n",
            "Platform: linux-64\n",
            "Collecting package metadata (repodata.json): ...working... done\n",
            "Solving environment: ...working... done\n",
            "\n",
            "## Package Plan ##\n",
            "\n",
            "  environment location: /content/conda-env\n",
            "\n",
            "  added / updated specs:\n",
            "    - yosys=0.38_93_g84116c9a3\n",
            "\n",
            "\n",
            "The following packages will be downloaded:\n",
            "\n",
            "    package                    |            build\n",
            "    ---------------------------|-----------------\n",
            "    archspec-0.2.3             |     pyhd3eb1b0_0          47 KB\n",
            "    ca-certificates-2024.3.11  |       h06a4308_0         127 KB\n",
            "    certifi-2024.6.2           |  py310h06a4308_0         160 KB\n",
            "    conda-24.5.0               |  py310h06a4308_0         976 KB\n",
            "    frozendict-2.4.2           |  py310h5eee18b_0          55 KB\n",
            "    openssl-3.0.14             |       h5eee18b_0         5.2 MB\n",
            "    yosys-0.38_93_g84116c9a3   |20240223_100318_py310        11.4 MB  litex-hub\n",
            "    ------------------------------------------------------------\n",
            "                                           Total:        18.0 MB\n",
            "\n",
            "The following NEW packages will be INSTALLED:\n",
            "\n",
            "  frozendict         pkgs/main/linux-64::frozendict-2.4.2-py310h5eee18b_0 \n",
            "  yosys              litex-hub/linux-64::yosys-0.38_93_g84116c9a3-20240223_100318_py310 \n",
            "\n",
            "The following packages will be UPDATED:\n",
            "\n",
            "  archspec                               0.2.1-pyhd3eb1b0_0 --> 0.2.3-pyhd3eb1b0_0 \n",
            "  ca-certificates                     2023.12.12-h06a4308_0 --> 2024.3.11-h06a4308_0 \n",
            "  certifi                          2024.2.2-py310h06a4308_0 --> 2024.6.2-py310h06a4308_0 \n",
            "  conda                              24.1.2-py310h06a4308_0 --> 24.5.0-py310h06a4308_0 \n",
            "  openssl                                 3.0.13-h7f8727e_0 --> 3.0.14-h5eee18b_0 \n",
            "\n",
            "\n",
            "Preparing transaction: ...working... done\n",
            "Verifying transaction: ...working... done\n",
            "Executing transaction: ...working... done\n",
            "  % Total    % Received % Xferd  Average Speed   Time    Time     Time  Current\n",
            "                                 Dload  Upload   Total   Spent    Left  Speed\n",
            "100 42.0M  100 42.0M    0     0  5731k      0  0:00:07  0:00:07 --:--:-- 6116k\n",
            "AST Lowering [394] c/freebsd.zig... \u001b[36D\u001b[0KAST Lowering [431] target/riscv.zig... LLVM Emit Object... \u001b[20D\u001b[0K\u001b[39D\u001b[0KSemantic Analysis... comptime_0... \u001b[35D\u001b[0KSemantic Analysis [637] addErrRetTraceAddr... \u001b[46D\u001b[0KSemantic Analysis [880] RealPathError... \u001b[41D\u001b[0KSemantic Analysis [1083] deinit... \u001b[35D\u001b[0KSemantic Analysis [1307] mem... \u001b[32D\u001b[0KSemantic Analysis [1530] read... \u001b[33D\u001b[0KSemantic Analysis [1704] \u001b[25D\u001b[0KSemantic Analysis [1749] all_features... \u001b[41D\u001b[0KSemantic Analysis [1797] getAdapted... \u001b[39D\u001b[0KSemantic Analysis [1955] ensureTotalCapacity... \u001b[48D\u001b[0KSemantic Analysis [2094] k6_2... \u001b[33D\u001b[0KSemantic Analysis [2143] set... \u001b[32D\u001b[0KSemantic Analysis [2311] atmega64... \u001b[37D\u001b[0KSemantic Analysis [2632] cortex_x1... \u001b[38D\u001b[0KSemantic Analysis [2837] core_avx_i... \u001b[39D\u001b[0KSemantic Analysis [2918] fstat... \u001b[34D\u001b[0KSemantic Analysis [2980] getOrPutContext... \u001b[44D\u001b[0KSemantic Analysis [3038] isEmpty... \u001b[36D\u001b[0KSemantic Analysis [3138] trimRight... \u001b[38D\u001b[0KSemantic Analysis [3214] growIfNeeded... \u001b[41D\u001b[0KSemantic Analysis [3230] iterator... \u001b[37D\u001b[0KSemantic Analysis [3342] grow... \u001b[33D\u001b[0KSemantic Analysis [3437] sigma... \u001b[34D\u001b[0KSemantic Analysis [3456] io... \u001b[31D\u001b[0KSemantic Analysis [3513] writev... \u001b[35D\u001b[0KSemantic Analysis [3576] faccessat... LLVM Emit Object... \u001b[20D\u001b[0KLLVM Emit Object... \u001b[20D\u001b[0K\u001b[38D\u001b[0KSemantic Analysis [3601] \u001b[25D\u001b[0KLLVM Emit Object... \u001b[20D\u001b[0KLLVM Emit Object... \u001b[20D\u001b[0KLLD Link... \u001b[12D\u001b[0KCompile C Objects [1/8] utility.cpp... Compile C Objects [1/10] \u001b[25D\u001b[0KCompile C Objects [1/10] gcc_personality_v0.c... \u001b[49D\u001b[0KCompile C Objects [3/10] UnwindRegistersSave.S... \u001b[50D\u001b[0KCompile C Objects [5/10] Unwind-sjlj.c... \u001b[42D\u001b[0KCompile C Objects [6/10] UnwindLevel1-gcc-ext.c... \u001b[51D\u001b[0KCompile C Objects [7/10] UnwindLevel1.c... \u001b[43D\u001b[0KCompile C Objects [8/10] Unwind-seh.cpp... \u001b[39D\u001b[0KCompile C Objects [2/8] \u001b[43D\u001b[0KCompile C Objects [10/10] libunwind.cpp... \u001b[43D\u001b[0K\u001b[24D\u001b[0KCompile C Objects [3/8] valiantMerged.cpp... Compile C Objects [1/47] \u001b[25D\u001b[0KCompile C Objects [1/47] verbose_abort.cpp... \u001b[46D\u001b[0KCompile C Objects [2/47] vector.cpp... \u001b[39D\u001b[0KCompile C Objects [3/47] variant.cpp... \u001b[40D\u001b[0KCompile C Objects [4/47] valarray.cpp... \u001b[41D\u001b[0KCompile C Objects [5/47] utility.cpp... \u001b[40D\u001b[0KCompile C Objects [6/47] typeinfo.cpp... \u001b[45D\u001b[0KCompile C Objects [4/8] valiantMerged.cpp... \u001b[41D\u001b[0KCompile C Objects [7/47] system_error.cpp... \u001b[45D\u001b[0KCompile C Objects [8/47] strstream.cpp... \u001b[42D\u001b[0KCompile C Objects [9/47] string.cpp... \u001b[39D\u001b[0KCompile C Objects [10/47] stdexcept.cpp... \u001b[43D\u001b[0KCompile C Objects [11/47] shared_mutex.cpp... \u001b[46D\u001b[0KCompile C Objects [12/47] f2s.cpp... \u001b[37D\u001b[0KCompile C Objects [13/47] d2s.cpp... \u001b[37D\u001b[0KCompile C Objects [14/47] d2fixed.cpp... \u001b[41D\u001b[0KCompile C Objects [15/47] regex.cpp... \u001b[39D\u001b[0KCompile C Objects [16/47] random_shuffle.cpp... \u001b[48D\u001b[0KCompile C Objects [17/47] random.cpp... \u001b[40D\u001b[0KCompile C Objects [18/47] optional.cpp... \u001b[42D\u001b[0KCompile C Objects [19/47] new.cpp... \u001b[37D\u001b[0KCompile C Objects [20/47] mutex_destructor.cpp... \u001b[50D\u001b[0KCompile C Objects [21/47] mutex.cpp... \u001b[39D\u001b[0KCompile C Objects [22/47] memory.cpp... \u001b[40D\u001b[0KCompile C Objects [23/47] locale.cpp... \u001b[40D\u001b[0KCompile C Objects [24/47] legacy_pointer_safety.cpp... \u001b[55D\u001b[0KCompile C Objects [25/47] legacy_debug_handler.cpp... \u001b[54D\u001b[0KCompile C Objects [26/47] iostream.cpp... \u001b[42D\u001b[0KCompile C Objects [27/47] ios.instantiations.cpp... \u001b[52D\u001b[0KCompile C Objects [28/47] ios.cpp... \u001b[37D\u001b[0KCompile C Objects [29/47] hash.cpp... \u001b[38D\u001b[0KCompile C Objects [30/47] future.cpp... \u001b[40D\u001b[0KCompile C Objects [31/47] functional.cpp... \u001b[44D\u001b[0KCompile C Objects [32/47] format.cpp... \u001b[40D\u001b[0KCompile C Objects [33/47] operations.cpp... \u001b[44D\u001b[0KCompile C Objects [34/47] directory_iterator.cpp... \u001b[52D\u001b[0KCompile C Objects [35/47] memory_resource.cpp... \u001b[49D\u001b[0KCompile C Objects [36/47] exception.cpp... \u001b[43D\u001b[0KCompile C Objects [38/47] condition_variable_destructor.cpp... \u001b[63D\u001b[0KCompile C Objects [39/47] condition_variable.cpp... \u001b[52D\u001b[0KCompile C Objects [41/47] charconv.cpp... \u001b[42D\u001b[0KCompile C Objects [42/47] bind.cpp... \u001b[38D\u001b[0KCompile C Objects [43/47] barrier.cpp... \u001b[41D\u001b[0KCompile C Objects [44/47] atomic.cpp... \u001b[40D\u001b[0KCompile C Objects [45/47] any.cpp... \u001b[37D\u001b[0KCompile C Objects [46/47] algorithm.cpp... \u001b[45D\u001b[0KCompile C Objects [5/8] \u001b[24D\u001b[0KCompile C Objects [5/8] valiantBase.cpp... \u001b[43D\u001b[0KCompile C Objects [47/47] algorithm.cpp... \u001b[43D\u001b[0KCompile C Objects [6/8] valiant.cpp... \u001b[43D\u001b[0K\u001b[39D\u001b[0KCompile C Objects [6/8] gamma.cpp... Compile C Objects [1/19] \u001b[25D\u001b[0KCompile C Objects [1/19] stdlib_typeinfo.cpp... \u001b[48D\u001b[0KCompile C Objects [2/19] stdlib_stdexcept.cpp... \u001b[49D\u001b[0KCompile C Objects [3/19] stdlib_new_delete.cpp... \u001b[50D\u001b[0KCompile C Objects [4/19] stdlib_exception.cpp... \u001b[49D\u001b[0KCompile C Objects [5/19] private_typeinfo.cpp... \u001b[49D\u001b[0KCompile C Objects [6/19] fallback_malloc.cpp... \u001b[48D\u001b[0KCompile C Objects [8/19] cxa_vector.cpp... \u001b[43D\u001b[0KCompile C Objects [9/19] cxa_thread_atexit.cpp... \u001b[50D\u001b[0KCompile C Objects [10/19] cxa_personality.cpp... \u001b[49D\u001b[0KCompile C Objects [11/19] cxa_noexception.cpp... \u001b[37D\u001b[0KCompile C Objects [7/8] gamma.cpp... \u001b[49D\u001b[0KCompile C Objects [12/19] cxa_handlers.cpp... \u001b[46D\u001b[0KCompile C Objects [12/19] cxa_guard.cpp... \u001b[43D\u001b[0KCompile C Objects [13/19] cxa_exception_storage.cpp... \u001b[55D\u001b[0KCompile C Objects [14/19] cxa_exception.cpp... \u001b[47D\u001b[0KCompile C Objects [15/19] cxa_demangle.cpp... \u001b[46D\u001b[0KCompile C Objects [16/19] cxa_default_handlers.cpp... \u001b[54D\u001b[0KCompile C Objects [17/19] cxa_aux_runtime.cpp... \u001b[49D\u001b[0KCompile C Objects [18/19] abort_message.cpp... \u001b[37D\u001b[0KCompile C Objects [8/8] \u001b[24D\u001b[0KCompile C Objects [8/8] UC.cpp... \u001b[47D\u001b[0KCompile C Objects [19/19] \u001b[26D\u001b[0KLLVM Emit Object... \u001b[20D\u001b[0KLLVM Emit Object... \u001b[20D\u001b[0K\u001b[34D\u001b[0KCompile C Objects [9/8] \u001b[24D\u001b[0KLLD Link... \u001b[12D\u001b[0KLLD Link... \u001b[12D\u001b[0KSemantic Analysis [2128] addOne... \u001b[35D\u001b[0KSemantic Analysis [2238] CLOCK... \u001b[34D\u001b[0KSemantic Analysis [2355] readlink... \u001b[37D\u001b[0KSemantic Analysis [2416] capacity... \u001b[37D\u001b[0KSemantic Analysis [2514] ensureTotalCapacityContext... \u001b[55D\u001b[0KSemantic Analysis [2576] growIfNeeded... \u001b[41D\u001b[0KSemantic Analysis [2643] VDSO... \u001b[33D\u001b[0KSemantic Analysis [2698] grow... \u001b[33D\u001b[0KSemantic Analysis [2737] deallocate... \u001b[39D\u001b[0KSemantic Analysis [2779] containsContext... \u001b[44D\u001b[0KSemantic Analysis [2806] split... \u001b[34D\u001b[0KSemantic Analysis [2812] \u001b[25D\u001b[0KLLVM Emit Object... \u001b[20D\u001b[0KLLVM Emit Object... \u001b[20D\u001b[0KLLD Link... \u001b[12D\u001b[0KSemantic Analysis [1608] ensureTotalCapacity... \u001b[48D\u001b[0KSemantic Analysis [1667] inTable... \u001b[36D\u001b[0KSemantic Analysis [1716] \u001b[25D\u001b[0KSemantic Analysis [1748] containsContext... \u001b[44D\u001b[0KLLVM Emit Object... \u001b[20D\u001b[0KLLVM Emit Object... \u001b[20D\u001b[0KLLD Link... \u001b[12D\u001b[0KLLVM Emit Object... \u001b[20D\u001b[0KLLVM Emit Object... \u001b[20D\u001b[0KLLD Link... \u001b[12D\u001b[0K"
          ]
        }
      ],
      "source": [
        "# @title\n",
        "import os\n",
        "import pathlib\n",
        "\n",
        "yosys_version = '0.38_93_g84116c9a3'\n",
        "\n",
        "# download repository\n",
        "!curl --show-error -L -o repo.zip https://github.com/encryptogroup/FRESH/archive/refs/heads/main.zip\n",
        "!unzip -q -o repo.zip\n",
        "\n",
        "# set up XLS\n",
        "!curl --show-error -L -o xls-bin.tar.xz.1 'https://anonymous.4open.science/api/repo/paper-review-binaries-081F/file/xls-bin.tar.xz.1?v=7d12e99e&download=true'\n",
        "!curl --show-error -L -o xls-bin.tar.xz.2 'https://anonymous.4open.science/api/repo/paper-review-binaries-081F/file/xls-bin.tar.xz.2?v=77ede0b4&download=true'\n",
        "!curl --show-error -L -o xls-bin.tar.xz.3 'https://anonymous.4open.science/api/repo/paper-review-binaries-081F/file/xls-bin.tar.xz.3?v=9361eaf8&download=true'\n",
        "!cat xls-bin.tar.xz.1 xls-bin.tar.xz.2 xls-bin.tar.xz.3 | tar xJ\n",
        "xls_bin_path = pathlib.Path('bazel-bin')\n",
        "xlscc_path = xls_bin_path / 'xls' / 'contrib' / 'xlscc' / 'xlscc'\n",
        "xls_opt_path = xls_bin_path / 'xls' / 'tools' / 'opt_main'\n",
        "xls_codegen_path = xls_bin_path / 'xls' / 'tools' / 'codegen_main'\n",
        "XLSCC = str(xlscc_path.resolve())\n",
        "XLS_OPT = str(xls_opt_path.resolve())\n",
        "XLS_CODEGEN = str(xls_codegen_path.resolve())\n",
        "%env XLSCC={XLSCC}\n",
        "%env XLS_OPT={XLS_OPT}\n",
        "%env XLS_CODEGEN={XLS_CODEGEN}\n",
        "\n",
        "# set up Yosys\n",
        "!curl -L -O https://repo.anaconda.com/miniconda/Miniconda3-py310_24.1.2-0-Linux-x86_64.sh\n",
        "!bash Miniconda3-py310_24.1.2-0-Linux-x86_64.sh -b -p conda-env/\n",
        "conda_prefix_path = pathlib.Path('conda-env')\n",
        "CONDA_PREFIX = str(conda_prefix_path.resolve())\n",
        "%env CONDA_PREFIX={CONDA_PREFIX}\n",
        "!conda-env/bin/conda install -yq -c \"litex-hub\" yosys={yosys_version}\n",
        "conda_bin_path = conda_prefix_path / 'bin'\n",
        "os.environ['PATH'] += os.pathsep + str(conda_bin_path.resolve())\n",
        "\n",
        "# set up FLUENT\n",
        "!curl --show-error -L https://ziglang.org/download/0.10.0/zig-linux-x86_64-0.10.0.tar.xz | tar xJ\n",
        "!zig-linux-x86_64-0.10.0/zig build\n",
        "fresh_bin_path = pathlib.Path('zig-out') / 'bin'\n",
        "os.environ['PATH'] += os.pathsep + str(fresh_bin_path.resolve())"
      ]
    },
    {
      "cell_type": "markdown",
      "metadata": {
        "id": "2Uk6rJfp2kK1"
      },
      "source": [
        "## Introductory examples\n",
        "\n",
        "First, we will have a quick look at some simple examples.\n",
        "\n",
        "### Verilog\n",
        "\n",
        "The following Verilog code implements a simple 32-bit integer adder."
      ]
    },
    {
      "cell_type": "code",
      "execution_count": null,
      "metadata": {
        "colab": {
          "base_uri": "https://localhost:8080/"
        },
        "id": "fDFeJ6rBztyM",
        "outputId": "cc03b7a4-d872-4e0c-81db-ed832fc6c75d"
      },
      "outputs": [
        {
          "name": "stdout",
          "output_type": "stream",
          "text": [
            "Writing paper_example_verilog.v\n"
          ]
        }
      ],
      "source": [
        "%%writefile example_verilog.v\n",
        "\n",
        "module adder (input wire [31:0] a, input wire [31:0] b, output wire [31:0] c);\n",
        "  assign c = a + b;\n",
        "endmodule"
      ]
    },
    {
      "cell_type": "code",
      "execution_count": null,
      "metadata": {
        "colab": {
          "base_uri": "https://localhost:8080/"
        },
        "id": "UXBdBrcvz7SB",
        "outputId": "c3ac316b-20e3-4494-daf3-f721bf3ec378"
      },
      "outputs": [
        {
          "name": "stdout",
          "output_type": "stream",
          "text": [
            "compiling public components... \u001b[31D\u001b[0Kcompiling private components [1/1] \u001b[35D\u001b[0Kcompiling private components [2/1] \u001b[35D\u001b[0Kmerging circuits... \u001b[20D\u001b[0KObject `paper_example_verilog.spfe` not found.\n"
          ]
        }
      ],
      "source": [
        "!syncirc example_verilog.v -t adder\n",
        "%pfile example_verilog.syncirc"
      ]
    },
    {
      "cell_type": "markdown",
      "source": [
        "Let's have a look at the circuit depth and size."
      ],
      "metadata": {
        "id": "duJV2Y5jnSWI"
      }
    },
    {
      "cell_type": "code",
      "source": [
        "!stats example_verilog.syncirc"
      ],
      "metadata": {
        "id": "p1VONcAOnVpV"
      },
      "execution_count": null,
      "outputs": []
    },
    {
      "cell_type": "markdown",
      "metadata": {
        "id": "8C4xjqqt3xPe"
      },
      "source": [
        "### C/C++\n",
        "\n",
        "This is the same example implemented in C, made possible with High-Level Synthesis (HLS)."
      ]
    },
    {
      "cell_type": "code",
      "execution_count": null,
      "metadata": {
        "colab": {
          "base_uri": "https://localhost:8080/"
        },
        "id": "jsPoYedxEO8n",
        "outputId": "823c22b3-4e93-4469-a164-910c2a026a95"
      },
      "outputs": [
        {
          "name": "stdout",
          "output_type": "stream",
          "text": [
            "Writing paper_example_c.c\n"
          ]
        }
      ],
      "source": [
        "%%writefile example_c.c\n",
        "\n",
        "int adder(int a, int b) {\n",
        "  return a + b;\n",
        "}"
      ]
    },
    {
      "cell_type": "code",
      "execution_count": null,
      "metadata": {
        "colab": {
          "base_uri": "https://localhost:8080/"
        },
        "id": "Vm48Q49twUpk",
        "outputId": "0ebb1310-da05-434e-c88f-75f1ca395c37"
      },
      "outputs": [
        {
          "name": "stdout",
          "output_type": "stream",
          "text": [
            "running high-level synthesis with XLS... \u001b[41D\u001b[0Kcompiling public components... \u001b[31D\u001b[0Kcompiling public components... \u001b[31D\u001b[0Kcompiling private components [1/1] \u001b[35D\u001b[0Kcompiling private components [2/1] \u001b[35D\u001b[0Kmerging circuits... \u001b[20D\u001b[0KObject `paper_example_c.spfe` not found.\n"
          ]
        }
      ],
      "source": [
        "!syncirc example_c.c -t adder\n",
        "%pfile example_c.syncirc"
      ]
    },
    {
      "cell_type": "code",
      "source": [
        "!stats example_c.syncirc"
      ],
      "metadata": {
        "id": "PBVBXtGtnZbA"
      },
      "execution_count": null,
      "outputs": []
    }
  ],
  "metadata": {
    "colab": {
      "provenance": []
    },
    "kernelspec": {
      "display_name": "Python 3",
      "name": "python3"
    },
    "language_info": {
      "name": "python"
    }
  },
  "nbformat": 4,
  "nbformat_minor": 0
}